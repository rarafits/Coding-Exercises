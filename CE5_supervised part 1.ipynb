{
  "cells": [
    {
      "cell_type": "markdown",
      "metadata": {
        "id": "c6466255"
      },
      "source": [
        "## Welcome To Coding Exercise 5\n",
        "\n",
        "**You only need to answer 2 question**"
      ],
      "id": "c6466255"
    },
    {
      "cell_type": "markdown",
      "metadata": {
        "id": "a7c27789"
      },
      "source": [
        "Hari ini, kita sedang membahas library yang sangat penting dalam Python yang disebut `numpy`. Minggu depan, kita akan membahas library lain yang sangat penting di Python bernama `pandas`. Untuk Latihan 9 dan 10, tidak akan ada pengkodean `R`.\n",
        "\n",
        "Kita akan kembali ke `R` di Day 11.\n",
        "\n",
        "Sebagai referensi, kedua library ini menjadi syarat utama Data Scientist di perusahaan teknologi papan atas Indonesia - sedangkan R tidak tercantum dalam persyaratan.\n",
        "\n",
        "Jadi, sangat penting untuk menguasai kedua library ini."
      ],
      "id": "a7c27789"
    },
    {
      "cell_type": "code",
      "execution_count": null,
      "metadata": {
        "id": "16fc201b"
      },
      "outputs": [],
      "source": [
        "# !pip install -U IPython"
      ],
      "id": "16fc201b"
    },
    {
      "cell_type": "code",
      "execution_count": null,
      "metadata": {
        "id": "ccc51955"
      },
      "outputs": [],
      "source": [
        "# from IPython.display import Image\n",
        "# Image(url= \"img/image1.jpg\", width=400, height=400)"
      ],
      "id": "ccc51955"
    },
    {
      "cell_type": "code",
      "execution_count": null,
      "metadata": {
        "id": "d70e4ba5"
      },
      "outputs": [],
      "source": [
        "# from IPython.display import Image\n",
        "# Image(url= \"img/image2.jpg\", width=400, height=400)"
      ],
      "id": "d70e4ba5"
    },
    {
      "cell_type": "markdown",
      "source": [
        "![image1.jpg](https://drive.google.com/uc?id=1_T8LPxMaYq06uW9JNqOy6Y0yIu_p9EZU)"
      ],
      "metadata": {
        "id": "YeZX0LT7OOxv"
      },
      "id": "YeZX0LT7OOxv"
    },
    {
      "cell_type": "markdown",
      "source": [
        "![image2.jpg](https://drive.google.com/uc?id=15E-Od0G_2eqvCnR9t8Div5V4adnGbswA)"
      ],
      "metadata": {
        "id": "gZCRWVapOrh-"
      },
      "id": "gZCRWVapOrh-"
    },
    {
      "cell_type": "markdown",
      "metadata": {
        "id": "3a19695c"
      },
      "source": [
        "### Numpy Question 1"
      ],
      "id": "3a19695c"
    },
    {
      "cell_type": "code",
      "execution_count": null,
      "metadata": {
        "id": "34c5e1be"
      },
      "outputs": [],
      "source": [
        "import numpy as np"
      ],
      "id": "34c5e1be"
    },
    {
      "cell_type": "markdown",
      "metadata": {
        "id": "ce57b62e"
      },
      "source": [
        "Fungsi Anda akan disebut `display_max`. Input Anda akan berupa `numpy array`. Output Anda akan memberi tahu di mana indeks adalah nilai maksimum dari setiap baris. Pisahkan output untuk setiap baris dengan koma.\n",
        "\n",
        "Jika ada lebih dari satu nilai maksimum, beri tahu posisi kejadian PERTAMA saja.\n",
        "\n",
        "#### Example 1\n",
        "\n",
        "Input array: `[[1,2,3,4,3], [5,10,8,3,2], [-5,7,8.4,1,0]]`\n",
        "\n",
        "Output: 3, 1, 2\n",
        "\n",
        "Penjelasan:\n",
        "\n",
        "- Baris pertama, `[1,2,3,4,3]`, memiliki nilai maksimum `4` pada indeks = 3 (Ingat! Ini Python. Indeks dimulai dari 0)\n",
        "\n",
        "- Baris kedua, `[5,10,8,3,2]`, memiliki nilai maksimum `10` pada indeks = 1\n",
        "\n",
        "- Baris ketiga, `[-5,7,8.4,1,0]`, memiliki nilai maksimum `8,4` pada indeks = 2\n",
        "\n",
        "Jadi, output Anda akan '3,1,2'\n",
        "\n",
        "#### Example 2\n",
        "\n",
        "Input array = `[[5,10,1,3], [1,5,1,5], [0,3,1,8]]`\n",
        "\n",
        "Output: 1,1,3\n",
        "\n",
        "Penjelasan:\n",
        "\n",
        "- Baris pertama, `[5,10,1,3]` memiliki nilai maksimum `10` pada indeks = 1\n",
        "- Baris kedua, `[1,5,1,5]` memiliki nilai maksimum `5` pada indeks = 1, 3. Tetapi kita hanya perlu mencetak kemunculan pertama, jadi kita hanya mencetak indeks = 1.\n",
        "- Baris ketiga, `[0,3,1,8]` memiliki nilai maksimum `8` pada indeks = 3.\n",
        "\n",
        "Jadi, output Anda akan '1,1,3'\n",
        "\n",
        "#### Constrains:\n",
        "- Jumlah baris bisa bilangan bulat berapa saja. Kita dapat memiliki input array dalam berbagai bentuk dan ukuran."
      ],
      "id": "ce57b62e"
    },
    {
      "cell_type": "code",
      "execution_count": null,
      "metadata": {
        "id": "afc8949f"
      },
      "outputs": [],
      "source": [
        "def display_max(input_array):\n",
        "    ### Write your solution here ###\n",
        "    output = []\n",
        "    for row in input_array:\n",
        "        max_val = np.max(row)\n",
        "        max_idx = np.where(row == max_val)[0][0]\n",
        "        output.append(str(max_idx))\n",
        "    return ', '.join(output)"
      ],
      "id": "afc8949f"
    },
    {
      "cell_type": "code",
      "source": [
        "# Example 1\n",
        "input_array1 = np.array([[1, 2, 3, 4, 3], [5, 10, 8, 3, 2], [-5, 7, 8.4, 1, 0]])\n",
        "output1 = display_max(input_array1)\n",
        "print(output1)"
      ],
      "metadata": {
        "id": "5yArHZqOK7qQ",
        "outputId": "b47065fe-cd16-4143-a8dd-2f257617a5ea",
        "colab": {
          "base_uri": "https://localhost:8080/"
        }
      },
      "id": "5yArHZqOK7qQ",
      "execution_count": null,
      "outputs": [
        {
          "output_type": "stream",
          "name": "stdout",
          "text": [
            "3, 1, 2\n"
          ]
        }
      ]
    },
    {
      "cell_type": "code",
      "source": [
        "# Example 2\n",
        "input_array2 = np.array([[5, 10, 1, 3], [1, 5, 1, 5], [0, 3, 1, 8]])\n",
        "output2 = display_max(input_array2)\n",
        "print(output2)"
      ],
      "metadata": {
        "id": "EAK53gD6Lam6",
        "outputId": "4749bef5-7cbd-4232-9935-184fad595c7f",
        "colab": {
          "base_uri": "https://localhost:8080/"
        }
      },
      "id": "EAK53gD6Lam6",
      "execution_count": null,
      "outputs": [
        {
          "output_type": "stream",
          "name": "stdout",
          "text": [
            "1, 1, 3\n"
          ]
        }
      ]
    },
    {
      "cell_type": "markdown",
      "metadata": {
        "id": "56ec00a5"
      },
      "source": [
        "### Numpy Question 2\n"
      ],
      "id": "56ec00a5"
    },
    {
      "cell_type": "markdown",
      "metadata": {
        "id": "a93c3748"
      },
      "source": [
        "##### Reminder untuk Class Managers and Students. ####\n",
        "\n",
        "Jika solusi memiliki perulangan `for`,`while`, Anda tidak mendapatkan poin penuh. Tujuan dari latihan ini adalah untuk menghindari perulangan saat melakukan hal-hal yang membutuhkan kondisi tertentu."
      ],
      "id": "a93c3748"
    },
    {
      "cell_type": "markdown",
      "metadata": {
        "id": "ab8fc5f3"
      },
      "source": [
        "#### Instructions: ####"
      ],
      "id": "ab8fc5f3"
    },
    {
      "cell_type": "markdown",
      "metadata": {
        "id": "95fe6946"
      },
      "source": [
        "Fungsi Anda akan bernama `grade`. Input Anda akan berupa array di mana setiap baris menunjukkan skor siswa. Output Anda akan berupa array DENGAN UKURAN YANG SAMA PERSIS dengan array input, tetapi hanya diisi dengan 'P' dan 'F'.\n",
        "\n",
        "- Jika nilai >= 70, maka untuk tes tersebut siswa dinyatakan lulus. Kita beri simbol 'P' untuk menandakan bahwa siswa tersebut lulus.\n",
        "- Jika skornya < 70, maka untuk tes tersebut, siswa tersebut gagal. Kita beri simbol 'F', untuk menandakan bahwa siswa tersebut gagal."
      ],
      "id": "95fe6946"
    },
    {
      "cell_type": "markdown",
      "metadata": {
        "id": "7a53a67f"
      },
      "source": [
        "#### Example 1:"
      ],
      "id": "7a53a67f"
    },
    {
      "cell_type": "code",
      "execution_count": null,
      "metadata": {
        "id": "04e3a36f",
        "outputId": "f91597e3-b44f-46b2-da4a-bd28f9931444"
      },
      "outputs": [
        {
          "data": {
            "text/plain": [
              "array([[ 80,  50,  80,  60,  70],\n",
              "       [100,  90,  80,  70,  50],\n",
              "       [ 70,  70,  60,  50,  85]])"
            ]
          },
          "execution_count": 51,
          "metadata": {},
          "output_type": "execute_result"
        }
      ],
      "source": [
        "input_array = np.array([[80,50,80,60,70],\n",
        "                       [100,90,80,70,50],\n",
        "                       [70,70,60,50,85]])\n",
        "input_array"
      ],
      "id": "04e3a36f"
    },
    {
      "cell_type": "markdown",
      "metadata": {
        "id": "a38c80f4"
      },
      "source": [
        "Jika inputnya seperti array di atas, berarti kita memiliki `3` siswa. Setiap siswa memiliki `5` nilai.\n",
        "\n",
        "- Nilai siswa pertama adalah: 80, 50, 80, 60, 70. Dari awal hingga akhir, siswa Lulus, Gagal, Lulus, Gagal, Lulus\n",
        "- Nilai siswa kedua adalah: 100, 90, 80, 70, 50. Dari pertama sampai terakhir, siswa Lulus, Lulus, Lulus, Lulus, Gagal\n",
        "- Nilai siswa ketiga adalah: 70, 70, 60, 50, 80. Dari awal hingga akhir, siswa Lulus, Lulus, Gagal, Gagal, Lulus"
      ],
      "id": "a38c80f4"
    },
    {
      "cell_type": "markdown",
      "metadata": {
        "id": "b04480c7"
      },
      "source": [
        "Kemudian, ketika `grade(input_array)` dijalankan, output Anda akan seperti ini:\n",
        "`[[P,F,P,F,P],[P,P,P,P,F],[P,P,F,F,P]]`"
      ],
      "id": "b04480c7"
    },
    {
      "cell_type": "markdown",
      "metadata": {
        "id": "f04f7a81"
      },
      "source": [
        "#### Example 2:"
      ],
      "id": "f04f7a81"
    },
    {
      "cell_type": "code",
      "execution_count": null,
      "metadata": {
        "id": "4fed75f0",
        "outputId": "599e332c-90f7-4b82-fcc3-062fbe3ce9a2"
      },
      "outputs": [
        {
          "data": {
            "text/plain": [
              "array([[100,  50, 100],\n",
              "       [ 70,  70,  70],\n",
              "       [ 40,  80,  40],\n",
              "       [ 50,  55,  80]])"
            ]
          },
          "execution_count": 52,
          "metadata": {},
          "output_type": "execute_result"
        }
      ],
      "source": [
        "input_array = np.array([[100,50,100],\n",
        "                       [70,70,70],\n",
        "                       [40,80,40],\n",
        "                       [50,55,80]])\n",
        "input_array"
      ],
      "id": "4fed75f0"
    },
    {
      "cell_type": "markdown",
      "metadata": {
        "id": "5c41c5f8"
      },
      "source": [
        "Jika inputnya seperti array di atas, berarti kita memiliki `4` siswa . Setiap siswa memiliki `3` nilai. Kemudian, ketika fungsi `grade(input_array)` dijalankan, output Anda akan seperti ini:"
      ],
      "id": "5c41c5f8"
    },
    {
      "cell_type": "markdown",
      "metadata": {
        "id": "1519c86f"
      },
      "source": [
        "`[[P,F,P], [P,P,P], [F,P,F], [F,F,P]]`"
      ],
      "id": "1519c86f"
    },
    {
      "cell_type": "code",
      "execution_count": null,
      "metadata": {
        "id": "f98be5ff"
      },
      "outputs": [],
      "source": [
        "def grade(input_array):\n",
        "    ### Write your solution here ###\n",
        "    pass_marks = 70\n",
        "    passing_array = np.where(input_array >= pass_marks, 'P', 'F')\n",
        "    return passing_array.tolist()"
      ],
      "id": "f98be5ff"
    },
    {
      "cell_type": "code",
      "execution_count": null,
      "metadata": {
        "id": "6271eaf5",
        "outputId": "ce8fa3f7-193a-4edb-fa37-7d5dcbd54f8d",
        "colab": {
          "base_uri": "https://localhost:8080/"
        }
      },
      "outputs": [
        {
          "output_type": "stream",
          "name": "stdout",
          "text": [
            "[['P', 'F', 'P', 'F', 'P'], ['P', 'P', 'P', 'P', 'F'], ['P', 'P', 'F', 'F', 'P']]\n"
          ]
        }
      ],
      "source": [
        "# Example 1\n",
        "input_array = np.array([[80, 50, 80, 60, 70],\n",
        "                       [100, 90, 80, 70, 50],\n",
        "                       [70, 70, 60, 50, 85]])\n",
        "\n",
        "output_array = grade(input_array)\n",
        "print(output_array)"
      ],
      "id": "6271eaf5"
    },
    {
      "cell_type": "code",
      "source": [
        "# Example 2\n",
        "input_array = np.array([[100,50,100],\n",
        "                       [70,70,70],\n",
        "                       [40,80,40],\n",
        "                       [50,55,80]])\n",
        "input_array"
      ],
      "metadata": {
        "id": "TykcxrP6Mgr6",
        "outputId": "99894fa9-45d8-42e3-c6f3-02ff2c661fa3",
        "colab": {
          "base_uri": "https://localhost:8080/"
        }
      },
      "id": "TykcxrP6Mgr6",
      "execution_count": null,
      "outputs": [
        {
          "output_type": "execute_result",
          "data": {
            "text/plain": [
              "array([[100,  50, 100],\n",
              "       [ 70,  70,  70],\n",
              "       [ 40,  80,  40],\n",
              "       [ 50,  55,  80]])"
            ]
          },
          "metadata": {},
          "execution_count": 15
        }
      ]
    },
    {
      "cell_type": "code",
      "source": [
        "grade(input_array)"
      ],
      "metadata": {
        "id": "tGf3K39EMunZ",
        "outputId": "a0f1acd7-c0a2-40ad-bd66-dc0a71d24e55",
        "colab": {
          "base_uri": "https://localhost:8080/"
        }
      },
      "id": "tGf3K39EMunZ",
      "execution_count": null,
      "outputs": [
        {
          "output_type": "execute_result",
          "data": {
            "text/plain": [
              "[['P', 'F', 'P'], ['P', 'P', 'P'], ['F', 'P', 'F'], ['F', 'F', 'P']]"
            ]
          },
          "metadata": {},
          "execution_count": 16
        }
      ]
    },
    {
      "cell_type": "markdown",
      "metadata": {
        "id": "4062c7fe"
      },
      "source": [
        "### Numpy Question 3"
      ],
      "id": "4062c7fe"
    },
    {
      "cell_type": "markdown",
      "metadata": {
        "id": "2467cc66"
      },
      "source": [
        "Nama fungsi Anda adalah `one_hot`, dan input fungsi Anda adalah array numpy.\n",
        "\n",
        "Dalam tugas ini, Anda diminta untuk mengonversi array integer menjadi one hot encoding.\n",
        "\n",
        "Ini berguna dalam machine learning dan bahkan kasus deep learning, di mana kita ingin melakukan eature engineering, represent categorical classes, dll.\n",
        "\n",
        "Resource on one-hot-encoding: https://machinelearningmastery.com/why-one-hot-encode-data-in-machine-learning/"
      ],
      "id": "2467cc66"
    },
    {
      "cell_type": "markdown",
      "metadata": {
        "id": "68c5968a"
      },
      "source": [
        "#### Example 1:\n",
        "\n",
        "Jika array inputnya adalah `[2,3,1,2]` maka versi one hot encodingnya adalah:\n",
        "\n",
        "`[[0,1,0], [0,0,1], [1,0,0], [0,1,0]]`\n",
        "\n",
        "Penjelasan: ada 3 bilangan bulat unik: 1, 2, dan 3. Jika kita ingin merepresentasikannya dengan one-hot encoding, kita harus merepresentasikannya dalam `0 dan 1`.\n",
        "\n",
        "Karena ada 3 bilangan bulat unik, kita merepresentasikannya dalam 3 urutan `0 dan 1`.\n",
        "\n",
        "1 direpresentasikan sebagai `[1, 0, 0]`\n",
        "2 direpresentasikan sebagai `[0, 1, 0]`\n",
        "3 direpresentasikan sebagai `[0, 0, 1]`\n",
        "\n",
        "Jadi, jika `input_array` adalah `np.array([2,3,1,2])`\n",
        "Dan array diteruskan ke fungsi Anda ..\n",
        "\n",
        "`one_hot(input_array)` sama dengan `array([[0,1,0], [0,0,1], [1,0,0], [0,1,0]])`\n",
        "\n",
        "#### Example 2\n",
        "\n",
        "Jika larik inputnya adalah `[4,2,1,3]` maka versi one hot encodingnya adalah:\n",
        "\n",
        "`[[0,0,0,1], [0,1,0,0], [1,0,0,0], [0,0,1,0]]`\n",
        "\n",
        "Penjelasan: ada 4 integer unik: 1, 2, 3, dan 4. Jika kita ingin merepresentasikannya dengan one-hot encoding, kita harus merepresentasikannya dalam `0 dan 1`.\n",
        "\n",
        "Karena ada 4 integer unik, kita merepresentasikannya dalam 4 urutan `0 dan 1`.\n",
        "\n",
        "1 direpresentasikan sebagai `[1, 0, 0, 0]`\n",
        "2 direpresentasikan sebagai `[0, 1, 0, 0]`\n",
        "3 direpresentasikan sebagai `[0, 0, 1, 0]`\n",
        "4 direpresentasikan sebagai `[0, 0, 0, 1]`\n",
        "\n",
        "Jadi, jika `input_array` adalah `np.array([4,2,1,3])`\n",
        "Dan array diteruskan ke fungsi Anda ..\n",
        "\n",
        "`one_hot(input_array)` sama dengan `array([[0,0,0,1], [0,1,0,0], [1,0,0,0], [0,0,1,0 ]])`\n",
        "\n",
        "\n",
        "#### Constrains:\n",
        "\n",
        "- Bilangan bulat dalam array input akan dimulai dengan 1.\n",
        "- Bilangan bulat dalam array input tidak akan bernilai nol atau negatif.\n",
        "- Bilangan bulat tidak akan dilewati (misalnya, array input tidak mungkin memiliki [4,1,2] karena 3 tidak ada).\n",
        "\n"
      ],
      "id": "68c5968a"
    },
    {
      "cell_type": "code",
      "execution_count": null,
      "metadata": {
        "id": "bfc0fc16"
      },
      "outputs": [],
      "source": [
        "def one_hot(input_array):\n",
        "    ### Write your solution here ###\n",
        "    unique_values = np.unique(input_array)\n",
        "    num_classes = len(unique_values)\n",
        "    encoding = np.zeros((len(input_array), num_classes), dtype=int)\n",
        "    for i, value in enumerate(input_array):\n",
        "        index = np.where(unique_values == value)[0][0]\n",
        "        encoding[i, index] = 1\n",
        "    return encoding.tolist()"
      ],
      "id": "bfc0fc16"
    },
    {
      "cell_type": "code",
      "execution_count": null,
      "metadata": {
        "id": "2b9f24ec",
        "outputId": "69f164fd-0659-494e-d8c8-9c81b6b8b058",
        "colab": {
          "base_uri": "https://localhost:8080/"
        }
      },
      "outputs": [
        {
          "output_type": "stream",
          "name": "stdout",
          "text": [
            "[[0, 1, 0], [0, 0, 1], [1, 0, 0], [0, 1, 0]]\n"
          ]
        }
      ],
      "source": [
        "# Example 1\n",
        "input_array1 = np.array([2, 3, 1, 2])\n",
        "output1 = one_hot(input_array1)\n",
        "print(output1)"
      ],
      "id": "2b9f24ec"
    },
    {
      "cell_type": "code",
      "execution_count": null,
      "metadata": {
        "id": "0f654980",
        "outputId": "2f4d0ad0-f7c0-4395-9744-f2b45acdb4bd",
        "colab": {
          "base_uri": "https://localhost:8080/"
        }
      },
      "outputs": [
        {
          "output_type": "stream",
          "name": "stdout",
          "text": [
            "[[0, 0, 0, 1], [0, 1, 0, 0], [1, 0, 0, 0], [0, 0, 1, 0]]\n"
          ]
        }
      ],
      "source": [
        "# Example 2\n",
        "input_array2 = np.array([4, 2, 1, 3])\n",
        "output2 = one_hot(input_array2)\n",
        "print(output2)"
      ],
      "id": "0f654980"
    },
    {
      "cell_type": "code",
      "source": [],
      "metadata": {
        "id": "sAVPoe3_NiLD"
      },
      "id": "sAVPoe3_NiLD",
      "execution_count": null,
      "outputs": []
    },
    {
      "cell_type": "markdown",
      "source": [
        "# **THANK YOU** :)"
      ],
      "metadata": {
        "id": "gUcVBqghNo_E"
      },
      "id": "gUcVBqghNo_E"
    }
  ],
  "metadata": {
    "colab": {
      "provenance": []
    },
    "kernelspec": {
      "display_name": "Python 3",
      "language": "python",
      "name": "python3"
    },
    "language_info": {
      "codemirror_mode": {
        "name": "ipython",
        "version": 3
      },
      "file_extension": ".py",
      "mimetype": "text/x-python",
      "name": "python",
      "nbconvert_exporter": "python",
      "pygments_lexer": "ipython3",
      "version": "3.7.0"
    }
  },
  "nbformat": 4,
  "nbformat_minor": 5
}