{
  "nbformat": 4,
  "nbformat_minor": 5,
  "metadata": {
    "kernelspec": {
      "display_name": "Python 3",
      "language": "python",
      "name": "python3"
    },
    "language_info": {
      "codemirror_mode": {
        "name": "ipython",
        "version": 3
      },
      "file_extension": ".py",
      "mimetype": "text/x-python",
      "name": "python",
      "nbconvert_exporter": "python",
      "pygments_lexer": "ipython3",
      "version": "3.8.5"
    },
    "colab": {
      "provenance": []
    }
  },
  "cells": [
    {
      "cell_type": "markdown",
      "metadata": {
        "id": "rgyHha0XVqWk"
      },
      "source": [
        "## Welcome to Coding challenge 4\n",
        "**Kamu hanya diminta untuk menyelesaikan 2 pertanyaan**\n"
      ],
      "id": "rgyHha0XVqWk"
    },
    {
      "cell_type": "markdown",
      "metadata": {
        "id": "yYHzZQQ7VqWo"
      },
      "source": [
        "### Question 1. \n",
        "### \"Shifting Members of an Array\""
      ],
      "id": "yYHzZQQ7VqWo"
    },
    {
      "cell_type": "markdown",
      "metadata": {
        "id": "HnQ0f2qIVqWp"
      },
      "source": [
        "Pada pertanyaan ini, kita ingin menggeser array ke kanan. seberapa banyak?\n",
        "Tergantung dari input\n",
        "\n",
        "##### Example 1:\n",
        "array = [1,2,3,4,5]\n",
        "steps = 3\n",
        "\n",
        "Kita harus menggeser array 3 langkah ke kanan.\n",
        "- Original array = [1,2,3,4,5]\n",
        "- Step 1 = [5,1,2,3,4]\n",
        "- Step 2 = [4,5,1,2,3]\n",
        "- Step 3 = [3,4,5,1,2]\n",
        "\n",
        "Answer = [3,4,5,1,2]\n",
        "\n",
        "##### Example 2:\n",
        "array = [1,2,3]\n",
        "steps = 5\n",
        "\n",
        "Kita harus menggeser array 3 langkah ke kanan.\n",
        "\n",
        "- Original array = [1,2,3]\n",
        "- Step 1 = [3,1,2]\n",
        "- Step 2 = [2,3,1]\n",
        "- Step 3 = [1,2,3]\n",
        "- Step 4 = [3,1,2]\n",
        "- Step 5 = [2,3,1]\n",
        "\n",
        "Answer = [2,3,1]"
      ],
      "id": "HnQ0f2qIVqWp"
    },
    {
      "cell_type": "code",
      "metadata": {
        "id": "fJsYHD2DVqWq"
      },
      "source": [
        "### Write your function here ###\n",
        "def shift(array, steps):\n",
        "    return"
      ],
      "id": "fJsYHD2DVqWq",
      "execution_count": 1,
      "outputs": []
    },
    {
      "cell_type": "code",
      "metadata": {
        "id": "bvmpT8ZxWtQc"
      },
      "source": [
        "### Solution\n",
        "\n",
        "def shift(array,steps):\n",
        "  length = len(array)\n",
        "  steps = steps % length  # Menghindari jumlah langkah yang lebih besar dari panjang array\n",
        "\n",
        "  if steps == 0:\n",
        "    return array\n",
        "    \n",
        "  shifted_array = [0] * length\n",
        "    \n",
        "  for i in range(length):\n",
        "    shifted_index = (i + steps) % length\n",
        "    shifted_array[shifted_index] = array[i]\n",
        "    \n",
        "  return shifted_array"
      ],
      "id": "bvmpT8ZxWtQc",
      "execution_count": 2,
      "outputs": []
    },
    {
      "cell_type": "code",
      "metadata": {
        "id": "qpDQUNijXhd7",
        "outputId": "0024b00a-cf2d-441d-e8fd-f96b0140d128",
        "colab": {
          "base_uri": "https://localhost:8080/"
        }
      },
      "source": [
        "shift([1,2,3,4,5],4)\n",
        "\n",
        "# Expected Output: [2, 3, 4, 5, 1]"
      ],
      "id": "qpDQUNijXhd7",
      "execution_count": 3,
      "outputs": [
        {
          "output_type": "execute_result",
          "data": {
            "text/plain": [
              "[2, 3, 4, 5, 1]"
            ]
          },
          "metadata": {},
          "execution_count": 3
        }
      ]
    },
    {
      "cell_type": "code",
      "metadata": {
        "id": "jnr5znJUVqWr",
        "outputId": "b232d6ce-038e-4eca-e7a4-af762a168597",
        "colab": {
          "base_uri": "https://localhost:8080/"
        }
      },
      "source": [
        "shift(['andi', 'budi', 'charlie', 'doni'],7)\n",
        "\n",
        "# Expected Output: ['budi', 'charlie', 'doni', 'andi']"
      ],
      "id": "jnr5znJUVqWr",
      "execution_count": 4,
      "outputs": [
        {
          "output_type": "execute_result",
          "data": {
            "text/plain": [
              "['budi', 'charlie', 'doni', 'andi']"
            ]
          },
          "metadata": {},
          "execution_count": 4
        }
      ]
    },
    {
      "cell_type": "code",
      "metadata": {
        "id": "LJaWSk-sW9ak",
        "outputId": "d609f356-68ff-4ceb-e92a-2d00439edfa4",
        "colab": {
          "base_uri": "https://localhost:8080/"
        }
      },
      "source": [
        "shift(['di', 'bim', 'bing', 123, 'data', 'science'],10)\n",
        "\n",
        "# Expected Output: ['bing', 123, 'data', 'science', 'di', 'bim']"
      ],
      "id": "LJaWSk-sW9ak",
      "execution_count": 5,
      "outputs": [
        {
          "output_type": "execute_result",
          "data": {
            "text/plain": [
              "['bing', 123, 'data', 'science', 'di', 'bim']"
            ]
          },
          "metadata": {},
          "execution_count": 5
        }
      ]
    },
    {
      "cell_type": "markdown",
      "metadata": {
        "id": "MRxU2bsKVqWs"
      },
      "source": [
        "### Question 2. \n",
        "### \"Segitiga Paskal\""
      ],
      "id": "MRxU2bsKVqWs"
    },
    {
      "cell_type": "markdown",
      "metadata": {
        "id": "hBUS1vtjVqWs"
      },
      "source": [
        "Kita akan membuat segitiga paskal sebanyak n-baris. fungsi yang dibuat harus bernama ```pascal```. Apabila belum mengetahui apa itu segitiga paskal, silahkan lihat video:https://www.youtube.com/watch?v=1D3KsvfB8b0 dan baca https://www.mathsisfun.com/pascals-triangle.html\n",
        "\n",
        "##### Example 1:\n",
        "Input = 4,\n",
        "\n",
        "Answer = [1,4,6,4,1]\n",
        "\n",
        "##### Example 2:\n",
        "input = 3,\n",
        "\n",
        "Answer = [1,3,3,1]\n",
        "\n"
      ],
      "id": "hBUS1vtjVqWs"
    },
    {
      "cell_type": "code",
      "metadata": {
        "id": "2KDt9NdfVqWt"
      },
      "source": [
        "### Write your solution here ###\n",
        "def pascal(input):\n",
        "    return"
      ],
      "id": "2KDt9NdfVqWt",
      "execution_count": 6,
      "outputs": []
    },
    {
      "cell_type": "code",
      "metadata": {
        "id": "-Jkxdrn_VqWu"
      },
      "source": [
        "### Solution\n",
        "\n",
        "def pascal(input):\n",
        "    prev = 1\n",
        "    print(prev, end=\" \")\n",
        "\n",
        "    for i in range(1, input + 1):\n",
        "        curr = (prev * (input - i + 1)) // i\n",
        "        print(curr, end=\" \")\n",
        "        prev = curr"
      ],
      "id": "-Jkxdrn_VqWu",
      "execution_count": 7,
      "outputs": []
    },
    {
      "cell_type": "code",
      "metadata": {
        "id": "oRbvyp8oYsrU",
        "outputId": "68d309fa-ad5e-4234-c2e0-ab24209fa2df",
        "colab": {
          "base_uri": "https://localhost:8080/"
        }
      },
      "source": [
        "pascal(3)"
      ],
      "id": "oRbvyp8oYsrU",
      "execution_count": 8,
      "outputs": [
        {
          "output_type": "stream",
          "name": "stdout",
          "text": [
            "1 3 3 1 "
          ]
        }
      ]
    },
    {
      "cell_type": "code",
      "source": [
        "pascal(4)"
      ],
      "metadata": {
        "id": "vkvBOiFIZYg_",
        "outputId": "b1c11539-f774-46e6-eff4-090afea86a26",
        "colab": {
          "base_uri": "https://localhost:8080/"
        }
      },
      "id": "vkvBOiFIZYg_",
      "execution_count": 9,
      "outputs": [
        {
          "output_type": "stream",
          "name": "stdout",
          "text": [
            "1 4 6 4 1 "
          ]
        }
      ]
    },
    {
      "cell_type": "markdown",
      "metadata": {
        "id": "UJFlJIG_VqWv"
      },
      "source": [
        "### Question 3"
      ],
      "id": "UJFlJIG_VqWv"
    },
    {
      "cell_type": "markdown",
      "metadata": {
        "id": "q_vw2BtGVqWv"
      },
      "source": [
        "### \"Jarak maksimal antara 3 titik\""
      ],
      "id": "q_vw2BtGVqWv"
    },
    {
      "cell_type": "markdown",
      "metadata": {
        "id": "k6qNbSInVqWw"
      },
      "source": [
        "Terdapat 3 koordinat, tentukan jarak antar 2 titik mana yang memiliki jarak terjauh, dan berikan output jarak kedua titik tersebut. fungsi yang anda buat haurs bernama ```max_ditance```. titik koordinat pertama disebut 'A', titik kedua disebut'B', dan titik ketiga disebut 'C'\n",
        "\n",
        "##### Example:\n",
        "A = [1,2],\n",
        "B = [10,-10],\n",
        "C = [-3, 5]\n",
        "\n",
        "- The distance between AB = 15\n",
        "- The distance between BC = 19.8\n",
        "- The distance between AC = 5.0\n",
        "\n",
        "Answer = \"The point B,C are furthest apart with distance 19.8\"\n"
      ],
      "id": "k6qNbSInVqWw"
    },
    {
      "cell_type": "code",
      "metadata": {
        "id": "la5u9FV4VqWw"
      },
      "source": [
        "### Write your solution here ###\n",
        "def max_distance(A,B,C):\n",
        "    return"
      ],
      "id": "la5u9FV4VqWw",
      "execution_count": 10,
      "outputs": []
    },
    {
      "cell_type": "code",
      "metadata": {
        "id": "AOlaM0grVqWy"
      },
      "source": [
        "### Solution ###\n",
        "import math\n",
        "\n",
        "def distance(point1, point2):\n",
        "    x1, y1 = point1\n",
        "    x2, y2 = point2\n",
        "    return math.sqrt((x2 - x1)**2 + (y2 - y1)**2)\n",
        "\n",
        "def max_distance(A, B, C):\n",
        "    distances = {\n",
        "        'AB': distance(A, B),\n",
        "        'BC': distance(B, C),\n",
        "        'AC': distance(A, C)\n",
        "    }\n",
        "    \n",
        "    max_distance = max(distances.values())\n",
        "    max_pair = max(distances, key=distances.get)\n",
        "    \n",
        "    output = f\"The points {max_pair[0]},{max_pair[1]} are furthest apart with distance {max_distance}\"\n",
        "    return output"
      ],
      "id": "AOlaM0grVqWy",
      "execution_count": 11,
      "outputs": []
    },
    {
      "cell_type": "code",
      "metadata": {
        "id": "jowcVYLLVqWy",
        "outputId": "de6e70ad-3691-4649-b7be-004de37e2742",
        "colab": {
          "base_uri": "https://localhost:8080/",
          "height": 35
        }
      },
      "source": [
        "A=[1,2]\n",
        "B=[10,-10]\n",
        "C=[-3, 5]\n",
        "max_distance(A,B,C)"
      ],
      "id": "jowcVYLLVqWy",
      "execution_count": 12,
      "outputs": [
        {
          "output_type": "execute_result",
          "data": {
            "text/plain": [
              "'The points B,C are furthest apart with distance 19.849433241279208'"
            ],
            "application/vnd.google.colaboratory.intrinsic+json": {
              "type": "string"
            }
          },
          "metadata": {},
          "execution_count": 12
        }
      ]
    },
    {
      "cell_type": "markdown",
      "source": [
        "Dikerjakan semua untuk latihan saja. mohon di review semua ya apabila ada keliru atau hal yang perlu diperbaiki.\n",
        "\n",
        "\n",
        "***Terimakasih ✨***"
      ],
      "metadata": {
        "id": "nVkzDX5AbmBU"
      },
      "id": "nVkzDX5AbmBU"
    }
  ]
}