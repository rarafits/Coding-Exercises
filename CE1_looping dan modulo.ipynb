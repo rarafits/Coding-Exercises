{
 "cells": [
  {
   "cell_type": "markdown",
   "metadata": {
    "id": "21Q6Yhc2Fy9p"
   },
   "source": [
    "# Coding Challenge 1 : Looping & Modulo\n",
    "\n",
    "Minggu ini, challenge kita adalah melakukan looping dengan Python. Contoh looping :"
   ]
  },
  {
   "cell_type": "code",
   "execution_count": null,
   "metadata": {
    "colab": {
     "base_uri": "https://localhost:8080/"
    },
    "id": "n0EJql6MGZFK",
    "outputId": "48ef56bc-192e-47d9-85c4-f3db7ff445f7"
   },
   "outputs": [
    {
     "name": "stdout",
     "output_type": "stream",
     "text": [
      "1\n",
      "2\n"
     ]
    }
   ],
   "source": [
    "for x in range (1, 3) :\n",
    "  print(x)"
   ]
  },
  {
   "cell_type": "markdown",
   "metadata": {
    "id": "8Pk4S8y1GF_G"
   },
   "source": [
    "### **Soal 1**: \n",
    "\n",
    "Print out integers which are multiples of 3 from 1 to 22.\n",
    "(Print out bilangan bulat yang merupakan kelipatan 3 dari 1 sampai 22).\n",
    "\n",
    "**Ekspektasi jawaban:**\n",
    "\n",
    "Ketika kode kalian di-run, muncul angka-angka: 3, 6, 9, 12, 15, 18, 21. Gunakan looping."
   ]
  },
  {
   "cell_type": "code",
   "execution_count": 4,
   "metadata": {
    "colab": {
     "base_uri": "https://localhost:8080/"
    },
    "id": "X2OJh3ZljFY1",
    "outputId": "9ccb6a00-a46c-4042-c6ec-612615596b65"
   },
   "outputs": [
    {
     "name": "stdout",
     "output_type": "stream",
     "text": [
      "3\n",
      "6\n",
      "9\n",
      "12\n",
      "15\n",
      "18\n",
      "21\n"
     ]
    }
   ],
   "source": [
    "for x in range (1,22):\n",
    "  if x%3==0:\n",
    "    print(x)"
   ]
  },
  {
   "cell_type": "markdown",
   "metadata": {
    "id": "0LRo8ovlSygt"
   },
   "source": [
    " ### **Soal 2**: \n",
    " Buatlah algoritma yang mencetak angka 1 sampai dengan 100, dimana : <br>\n",
    "a. Bila angka merupakan kelipatan 3, maka akan mencetak kata “BIZZ”  <br>\n",
    "b. Bila angka merupakan kelipatan 5, maka akan mencetak kata “BUZZ”  <br>\n",
    "c. Bila angka merupakan kelipatan 3 dan 5, maka akan mencetak kata “BIZZBUZZ” <br>\n",
    "\n",
    "**Ekspektasi jawaban:**\n",
    "\n",
    "angka :  3  BIZZ<br>\n",
    "angka :  5  BUZZ<br>\n",
    "angka :  6  BIZZ<br>\n",
    "angka :  9  BIZZ<br>\n",
    "angka :  10  BUZZ<br>\n",
    "angka :  12  BIZZ<br>\n",
    "angka :  15  BIZZBUZZ<br>\n",
    "angka :  18  BIZZ<br>\n",
    "angka :  20  BUZZ<br>\n",
    "angka :  21  BIZZ<br>\n",
    "angka :  24  BIZZ<br>\n",
    "angka :  25  BUZZ<br>\n",
    "angka :  27  BIZZ<br>\n",
    "angka :  30  BIZZBUZZ<br>\n",
    "angka :  33  BIZZ<br>\n",
    "angka :  35  BUZZ<br>\n",
    "angka :  36  BIZZ<br>\n",
    "angka :  39  BIZZ<br>\n",
    "angka :  40  BUZZ<br>\n",
    "angka :  42  BIZZ<br>\n",
    "angka :  45  BIZZBUZZ<br>\n",
    "angka :  48  BIZZ<br>\n",
    "angka :  50  BUZZ<br>\n",
    "angka :  51  BIZZ<br>\n",
    "angka :  54  BIZZ<br>\n",
    "angka :  55  BUZZ<br>\n",
    "angka :  57  BIZZ<br>\n",
    "angka :  60  BIZZBUZZ<br>\n",
    "angka :  63  BIZZ<br>\n",
    "angka :  65  BUZZ<br>\n",
    "angka :  66  BIZZ<br>\n",
    "angka :  69  BIZZ<br>\n",
    "angka :  70  BUZZ<br>\n",
    "angka :  72  BIZZ<br>\n",
    "angka :  75  BIZZBUZZ<br>\n",
    "angka :  78  BIZZ<br>\n",
    "angka :  80  BUZZ<br>\n",
    "angka :  81  BIZZ<br>\n",
    "angka :  84  BIZZ<br>\n",
    "angka :  85  BUZZ<br>\n",
    "angka :  87  BIZZ<br>\n",
    "angka :  90  BIZZBUZZ<br>\n",
    "angka :  93  BIZZ<br>\n",
    "angka :  95  BUZZ<br>\n",
    "angka :  96  BIZZ<br>\n",
    "angka :  99  BIZZ<br>\n",
    "angka :  100  BUZZ\n"
   ]
  },
  {
   "cell_type": "code",
   "execution_count": 8,
   "metadata": {
    "colab": {
     "base_uri": "https://localhost:8080/"
    },
    "id": "jNzJrYNCJmBw",
    "outputId": "4f7c81bf-e9f8-40ee-ffa3-7498f97d8b0c"
   },
   "outputs": [
    {
     "name": "stdout",
     "output_type": "stream",
     "text": [
      "angka: 3 BIZZ\n",
      "angka: 5 BUZZ\n",
      "angka: 6 BIZZ\n",
      "angka: 9 BIZZ\n",
      "angka: 10 BUZZ\n",
      "angka: 12 BIZZ\n",
      "angka: 15 BIZZBUZZ\n",
      "angka: 18 BIZZ\n",
      "angka: 20 BUZZ\n",
      "angka: 21 BIZZ\n",
      "angka: 24 BIZZ\n",
      "angka: 25 BUZZ\n",
      "angka: 27 BIZZ\n",
      "angka: 30 BIZZBUZZ\n",
      "angka: 33 BIZZ\n",
      "angka: 35 BUZZ\n",
      "angka: 36 BIZZ\n",
      "angka: 39 BIZZ\n",
      "angka: 40 BUZZ\n",
      "angka: 42 BIZZ\n",
      "angka: 45 BIZZBUZZ\n",
      "angka: 48 BIZZ\n",
      "angka: 50 BUZZ\n",
      "angka: 51 BIZZ\n",
      "angka: 54 BIZZ\n",
      "angka: 55 BUZZ\n",
      "angka: 57 BIZZ\n",
      "angka: 60 BIZZBUZZ\n",
      "angka: 63 BIZZ\n",
      "angka: 65 BUZZ\n",
      "angka: 66 BIZZ\n",
      "angka: 69 BIZZ\n",
      "angka: 70 BUZZ\n",
      "angka: 72 BIZZ\n",
      "angka: 75 BIZZBUZZ\n",
      "angka: 78 BIZZ\n",
      "angka: 80 BUZZ\n",
      "angka: 81 BIZZ\n",
      "angka: 84 BIZZ\n",
      "angka: 85 BUZZ\n",
      "angka: 87 BIZZ\n",
      "angka: 90 BIZZBUZZ\n",
      "angka: 93 BIZZ\n",
      "angka: 95 BUZZ\n",
      "angka: 96 BIZZ\n",
      "angka: 99 BIZZ\n",
      "angka: 100 BUZZ\n"
     ]
    }
   ],
   "source": [
    "def bizzbuzz(start_num,end_num):\n",
    "    for x in range (1,101):\n",
    "        if x%3==0 and x%5==0:\n",
    "            print (f'angka: {x} BIZZBUZZ')\n",
    "        elif x%5==0:\n",
    "            print (f'angka: {x} BUZZ')\n",
    "        elif x%3==0:\n",
    "            print (f'angka: {x} BIZZ')\n",
    "    \n",
    "bizzbuzz(1,100)"
   ]
  },
  {
   "cell_type": "code",
   "execution_count": 9,
   "metadata": {
    "colab": {
     "base_uri": "https://localhost:8080/"
    },
    "id": "NUMNjniTk6zG",
    "outputId": "fa9feff5-d119-4d18-9115-f0fb32c70312"
   },
   "outputs": [
    {
     "name": "stdout",
     "output_type": "stream",
     "text": [
      "angka: 1\n",
      "angka: 2\n",
      "angka: 3 BIZZ\n",
      "angka: 4\n",
      "angka: 5 BUZZ\n",
      "angka: 6 BIZZ\n",
      "angka: 7\n",
      "angka: 8\n",
      "angka: 9 BIZZ\n",
      "angka: 10 BUZZ\n",
      "angka: 11\n",
      "angka: 12 BIZZ\n",
      "angka: 13\n",
      "angka: 14\n",
      "angka: 15 BIZZBUZZ\n",
      "angka: 16\n",
      "angka: 17\n",
      "angka: 18 BIZZ\n",
      "angka: 19\n",
      "angka: 20 BUZZ\n",
      "angka: 21 BIZZ\n",
      "angka: 22\n",
      "angka: 23\n",
      "angka: 24 BIZZ\n",
      "angka: 25 BUZZ\n",
      "angka: 26\n",
      "angka: 27 BIZZ\n",
      "angka: 28\n",
      "angka: 29\n",
      "angka: 30 BIZZBUZZ\n",
      "angka: 31\n",
      "angka: 32\n",
      "angka: 33 BIZZ\n",
      "angka: 34\n",
      "angka: 35 BUZZ\n",
      "angka: 36 BIZZ\n",
      "angka: 37\n",
      "angka: 38\n",
      "angka: 39 BIZZ\n",
      "angka: 40 BUZZ\n",
      "angka: 41\n",
      "angka: 42 BIZZ\n",
      "angka: 43\n",
      "angka: 44\n",
      "angka: 45 BIZZBUZZ\n",
      "angka: 46\n",
      "angka: 47\n",
      "angka: 48 BIZZ\n",
      "angka: 49\n",
      "angka: 50 BUZZ\n",
      "angka: 51 BIZZ\n",
      "angka: 52\n",
      "angka: 53\n",
      "angka: 54 BIZZ\n",
      "angka: 55 BUZZ\n",
      "angka: 56\n",
      "angka: 57 BIZZ\n",
      "angka: 58\n",
      "angka: 59\n",
      "angka: 60 BIZZBUZZ\n",
      "angka: 61\n",
      "angka: 62\n",
      "angka: 63 BIZZ\n",
      "angka: 64\n",
      "angka: 65 BUZZ\n",
      "angka: 66 BIZZ\n",
      "angka: 67\n",
      "angka: 68\n",
      "angka: 69 BIZZ\n",
      "angka: 70 BUZZ\n",
      "angka: 71\n",
      "angka: 72 BIZZ\n",
      "angka: 73\n",
      "angka: 74\n",
      "angka: 75 BIZZBUZZ\n",
      "angka: 76\n",
      "angka: 77\n",
      "angka: 78 BIZZ\n",
      "angka: 79\n",
      "angka: 80 BUZZ\n",
      "angka: 81 BIZZ\n",
      "angka: 82\n",
      "angka: 83\n",
      "angka: 84 BIZZ\n",
      "angka: 85 BUZZ\n",
      "angka: 86\n",
      "angka: 87 BIZZ\n",
      "angka: 88\n",
      "angka: 89\n",
      "angka: 90 BIZZBUZZ\n",
      "angka: 91\n",
      "angka: 92\n",
      "angka: 93 BIZZ\n",
      "angka: 94\n",
      "angka: 95 BUZZ\n",
      "angka: 96 BIZZ\n",
      "angka: 97\n",
      "angka: 98\n",
      "angka: 99 BIZZ\n",
      "angka: 100 BUZZ\n"
     ]
    }
   ],
   "source": [
    "#attempt to bring up all numbers (coba-coba :D)\n",
    "\n",
    "def bizzbuzz(start_num,end_num):\n",
    "    for x in range (1,101):\n",
    "        if x%3==0 and x%5==0:\n",
    "            print (f'angka: {x} BIZZBUZZ')\n",
    "        elif x%5==0:\n",
    "            print (f'angka: {x} BUZZ')\n",
    "        elif x%3==0:\n",
    "            print (f'angka: {x} BIZZ')\n",
    "        else:\n",
    "            print(f'angka: {x}')\n",
    "    \n",
    "bizzbuzz(1,100)"
   ]
  },
  {
   "cell_type": "markdown",
   "metadata": {},
   "source": [
    "THANK YOU :) "
   ]
  }
 ],
 "metadata": {
  "colab": {
   "provenance": []
  },
  "kernelspec": {
   "display_name": "Python 3 (ipykernel)",
   "language": "python",
   "name": "python3"
  },
  "language_info": {
   "codemirror_mode": {
    "name": "ipython",
    "version": 3
   },
   "file_extension": ".py",
   "mimetype": "text/x-python",
   "name": "python",
   "nbconvert_exporter": "python",
   "pygments_lexer": "ipython3",
   "version": "3.9.13"
  }
 },
 "nbformat": 4,
 "nbformat_minor": 1
}
