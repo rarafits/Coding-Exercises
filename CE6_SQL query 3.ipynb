{
 "cells": [
  {
   "cell_type": "code",
   "execution_count": 2,
   "id": "b6fc4043",
   "metadata": {
    "colab": {
     "base_uri": "https://localhost:8080/"
    },
    "id": "b6fc4043",
    "outputId": "b0d05cd8-3f0b-4820-810e-a066fe26b18c"
   },
   "outputs": [
    {
     "name": "stdout",
     "output_type": "stream",
     "text": [
      "Requirement already satisfied: pandasql in /opt/anaconda3/lib/python3.9/site-packages (0.7.3)\n",
      "Requirement already satisfied: numpy in /opt/anaconda3/lib/python3.9/site-packages (from pandasql) (1.21.5)\n",
      "Requirement already satisfied: pandas in /opt/anaconda3/lib/python3.9/site-packages (from pandasql) (1.4.4)\n",
      "Requirement already satisfied: sqlalchemy in /opt/anaconda3/lib/python3.9/site-packages (from pandasql) (1.4.39)\n",
      "Requirement already satisfied: python-dateutil>=2.8.1 in /opt/anaconda3/lib/python3.9/site-packages (from pandas->pandasql) (2.8.2)\n",
      "Requirement already satisfied: pytz>=2020.1 in /opt/anaconda3/lib/python3.9/site-packages (from pandas->pandasql) (2022.1)\n",
      "Requirement already satisfied: greenlet!=0.4.17 in /opt/anaconda3/lib/python3.9/site-packages (from sqlalchemy->pandasql) (1.1.1)\n",
      "Requirement already satisfied: six>=1.5 in /opt/anaconda3/lib/python3.9/site-packages (from python-dateutil>=2.8.1->pandas->pandasql) (1.16.0)\n"
     ]
    }
   ],
   "source": [
    "### JALANKAN CELL INI TERLEBIH DAHULU ###\n",
    "!pip install pandasql"
   ]
  },
  {
   "cell_type": "code",
   "execution_count": 3,
   "id": "75ebaeb0",
   "metadata": {
    "id": "75ebaeb0"
   },
   "outputs": [],
   "source": [
    "import pandas as pd\n",
    "import pandasql\n",
    "\n",
    "from pandasql import sqldf\n",
    "sql_run = lambda q: sqldf(q, globals())"
   ]
  },
  {
   "cell_type": "code",
   "execution_count": 4,
   "id": "142c51ce",
   "metadata": {
    "id": "142c51ce"
   },
   "outputs": [],
   "source": [
    "worldcity = pd.read_csv('worldcities.csv', sep = ';', encoding = 'latin-1')\n",
    "uscity = pd.read_csv('uscities.csv', sep = ';', encoding = 'latin-1')\n",
    "uscity.columns = ['city', 'state_id', 'state_name', 'county_fips', 'county_name',\n",
    "       'lat', 'lng', 'population', 'density', 'source', 'military',\n",
    "       'incorporated', 'timezone', 'ranking', 'zips', 'id']"
   ]
  },
  {
   "cell_type": "markdown",
   "id": "71458e3c",
   "metadata": {
    "id": "71458e3c"
   },
   "source": [
    "### Tutorial Bagaimana Cara Melakukan Query Menggunakan Pandasql"
   ]
  },
  {
   "cell_type": "markdown",
   "id": "2ad629e1",
   "metadata": {
    "id": "2ad629e1"
   },
   "source": [
    "Contoh: Bagaimana melakukan query untuk mendapatkan kota-kota dari worldcity yang merupakan:\n",
    "- berada di antara 33 - 40 'latitude'\n",
    "- berada di antara 100 - 140 'longitude'\n",
    "- merupakan kota 'primary' pada kolom 'capital'\n",
    "- memiliki populasi lebih dari 20 juta"
   ]
  },
  {
   "cell_type": "code",
   "execution_count": 4,
   "id": "7c97be7f",
   "metadata": {
    "id": "7c97be7f",
    "outputId": "45c9cbe3-fe5b-4c63-ac93-df958618ff31"
   },
   "outputs": [
    {
     "data": {
      "text/html": [
       "<div>\n",
       "<style scoped>\n",
       "    .dataframe tbody tr th:only-of-type {\n",
       "        vertical-align: middle;\n",
       "    }\n",
       "\n",
       "    .dataframe tbody tr th {\n",
       "        vertical-align: top;\n",
       "    }\n",
       "\n",
       "    .dataframe thead th {\n",
       "        text-align: right;\n",
       "    }\n",
       "</style>\n",
       "<table border=\"1\" class=\"dataframe\">\n",
       "  <thead>\n",
       "    <tr style=\"text-align: right;\">\n",
       "      <th></th>\n",
       "      <th>city</th>\n",
       "      <th>lat</th>\n",
       "      <th>lng</th>\n",
       "      <th>country</th>\n",
       "      <th>iso2</th>\n",
       "      <th>iso3</th>\n",
       "      <th>capital</th>\n",
       "      <th>population</th>\n",
       "      <th>id</th>\n",
       "    </tr>\n",
       "  </thead>\n",
       "  <tbody>\n",
       "    <tr>\n",
       "      <th>0</th>\n",
       "      <td>Tokyo</td>\n",
       "      <td>35.6897</td>\n",
       "      <td>139.6922</td>\n",
       "      <td>Japan</td>\n",
       "      <td>JP</td>\n",
       "      <td>JPN</td>\n",
       "      <td>primary</td>\n",
       "      <td>37977000.0</td>\n",
       "      <td>1392685764</td>\n",
       "    </tr>\n",
       "    <tr>\n",
       "      <th>1</th>\n",
       "      <td>Jakarta</td>\n",
       "      <td>-6.2146</td>\n",
       "      <td>106.8451</td>\n",
       "      <td>Indonesia</td>\n",
       "      <td>ID</td>\n",
       "      <td>IDN</td>\n",
       "      <td>primary</td>\n",
       "      <td>34540000.0</td>\n",
       "      <td>1360771077</td>\n",
       "    </tr>\n",
       "    <tr>\n",
       "      <th>2</th>\n",
       "      <td>Delhi</td>\n",
       "      <td>28.6600</td>\n",
       "      <td>77.2300</td>\n",
       "      <td>India</td>\n",
       "      <td>IN</td>\n",
       "      <td>IND</td>\n",
       "      <td>admin</td>\n",
       "      <td>29617000.0</td>\n",
       "      <td>1356872604</td>\n",
       "    </tr>\n",
       "    <tr>\n",
       "      <th>3</th>\n",
       "      <td>Mumbai</td>\n",
       "      <td>18.9667</td>\n",
       "      <td>72.8333</td>\n",
       "      <td>India</td>\n",
       "      <td>IN</td>\n",
       "      <td>IND</td>\n",
       "      <td>admin</td>\n",
       "      <td>23355000.0</td>\n",
       "      <td>1356226629</td>\n",
       "    </tr>\n",
       "    <tr>\n",
       "      <th>4</th>\n",
       "      <td>Manila</td>\n",
       "      <td>14.6000</td>\n",
       "      <td>120.9833</td>\n",
       "      <td>Philippines</td>\n",
       "      <td>PH</td>\n",
       "      <td>PHL</td>\n",
       "      <td>primary</td>\n",
       "      <td>23088000.0</td>\n",
       "      <td>1608618140</td>\n",
       "    </tr>\n",
       "    <tr>\n",
       "      <th>...</th>\n",
       "      <td>...</td>\n",
       "      <td>...</td>\n",
       "      <td>...</td>\n",
       "      <td>...</td>\n",
       "      <td>...</td>\n",
       "      <td>...</td>\n",
       "      <td>...</td>\n",
       "      <td>...</td>\n",
       "      <td>...</td>\n",
       "    </tr>\n",
       "    <tr>\n",
       "      <th>40996</th>\n",
       "      <td>Tukchi</td>\n",
       "      <td>57.3670</td>\n",
       "      <td>139.5000</td>\n",
       "      <td>Russia</td>\n",
       "      <td>RU</td>\n",
       "      <td>RUS</td>\n",
       "      <td>NaN</td>\n",
       "      <td>10.0</td>\n",
       "      <td>1643472801</td>\n",
       "    </tr>\n",
       "    <tr>\n",
       "      <th>40997</th>\n",
       "      <td>Numto</td>\n",
       "      <td>63.6667</td>\n",
       "      <td>71.3333</td>\n",
       "      <td>Russia</td>\n",
       "      <td>RU</td>\n",
       "      <td>RUS</td>\n",
       "      <td>NaN</td>\n",
       "      <td>10.0</td>\n",
       "      <td>1643985006</td>\n",
       "    </tr>\n",
       "    <tr>\n",
       "      <th>40998</th>\n",
       "      <td>Nord</td>\n",
       "      <td>81.7166</td>\n",
       "      <td>-17.8000</td>\n",
       "      <td>Greenland</td>\n",
       "      <td>GL</td>\n",
       "      <td>GRL</td>\n",
       "      <td>NaN</td>\n",
       "      <td>10.0</td>\n",
       "      <td>1304217709</td>\n",
       "    </tr>\n",
       "    <tr>\n",
       "      <th>40999</th>\n",
       "      <td>Timmiarmiut</td>\n",
       "      <td>62.5333</td>\n",
       "      <td>-42.2167</td>\n",
       "      <td>Greenland</td>\n",
       "      <td>GL</td>\n",
       "      <td>GRL</td>\n",
       "      <td>NaN</td>\n",
       "      <td>10.0</td>\n",
       "      <td>1304206491</td>\n",
       "    </tr>\n",
       "    <tr>\n",
       "      <th>41000</th>\n",
       "      <td>Nordvik</td>\n",
       "      <td>74.0165</td>\n",
       "      <td>111.5100</td>\n",
       "      <td>Russia</td>\n",
       "      <td>RU</td>\n",
       "      <td>RUS</td>\n",
       "      <td>NaN</td>\n",
       "      <td>0.0</td>\n",
       "      <td>1643587468</td>\n",
       "    </tr>\n",
       "  </tbody>\n",
       "</table>\n",
       "<p>41001 rows × 9 columns</p>\n",
       "</div>"
      ],
      "text/plain": [
       "              city      lat       lng      country iso2 iso3  capital  \\\n",
       "0            Tokyo  35.6897  139.6922        Japan   JP  JPN  primary   \n",
       "1          Jakarta  -6.2146  106.8451    Indonesia   ID  IDN  primary   \n",
       "2            Delhi  28.6600   77.2300        India   IN  IND    admin   \n",
       "3           Mumbai  18.9667   72.8333        India   IN  IND    admin   \n",
       "4           Manila  14.6000  120.9833  Philippines   PH  PHL  primary   \n",
       "...            ...      ...       ...          ...  ...  ...      ...   \n",
       "40996       Tukchi  57.3670  139.5000       Russia   RU  RUS      NaN   \n",
       "40997        Numto  63.6667   71.3333       Russia   RU  RUS      NaN   \n",
       "40998         Nord  81.7166  -17.8000    Greenland   GL  GRL      NaN   \n",
       "40999  Timmiarmiut  62.5333  -42.2167    Greenland   GL  GRL      NaN   \n",
       "41000      Nordvik  74.0165  111.5100       Russia   RU  RUS      NaN   \n",
       "\n",
       "       population          id  \n",
       "0      37977000.0  1392685764  \n",
       "1      34540000.0  1360771077  \n",
       "2      29617000.0  1356872604  \n",
       "3      23355000.0  1356226629  \n",
       "4      23088000.0  1608618140  \n",
       "...           ...         ...  \n",
       "40996        10.0  1643472801  \n",
       "40997        10.0  1643985006  \n",
       "40998        10.0  1304217709  \n",
       "40999        10.0  1304206491  \n",
       "41000         0.0  1643587468  \n",
       "\n",
       "[41001 rows x 9 columns]"
      ]
     },
     "execution_count": 4,
     "metadata": {},
     "output_type": "execute_result"
    }
   ],
   "source": [
    "worldcity"
   ]
  },
  {
   "cell_type": "code",
   "execution_count": 7,
   "id": "be3f6489",
   "metadata": {
    "id": "be3f6489",
    "outputId": "65b0c4a7-1306-42b2-9f6c-8e1eeea80a26"
   },
   "outputs": [
    {
     "data": {
      "text/html": [
       "<div>\n",
       "<style scoped>\n",
       "    .dataframe tbody tr th:only-of-type {\n",
       "        vertical-align: middle;\n",
       "    }\n",
       "\n",
       "    .dataframe tbody tr th {\n",
       "        vertical-align: top;\n",
       "    }\n",
       "\n",
       "    .dataframe thead th {\n",
       "        text-align: right;\n",
       "    }\n",
       "</style>\n",
       "<table border=\"1\" class=\"dataframe\">\n",
       "  <thead>\n",
       "    <tr style=\"text-align: right;\">\n",
       "      <th></th>\n",
       "      <th>city</th>\n",
       "    </tr>\n",
       "  </thead>\n",
       "  <tbody>\n",
       "    <tr>\n",
       "      <th>0</th>\n",
       "      <td>Tokyo</td>\n",
       "    </tr>\n",
       "    <tr>\n",
       "      <th>1</th>\n",
       "      <td>Seoul</td>\n",
       "    </tr>\n",
       "  </tbody>\n",
       "</table>\n",
       "</div>"
      ],
      "text/plain": [
       "    city\n",
       "0  Tokyo\n",
       "1  Seoul"
      ]
     },
     "execution_count": 7,
     "metadata": {},
     "output_type": "execute_result"
    }
   ],
   "source": [
    "query = \"\"\"\n",
    "SELECT DISTINCT city\n",
    "FROM worldcity\n",
    "WHERE lat BETWEEN 33 AND 40\n",
    "AND lng BETWEEN 100 AND 140\n",
    "AND capital = 'primary'\n",
    "AND population > 20000000\n",
    "\"\"\"\n",
    "\n",
    "sql_run(query)"
   ]
  },
  {
   "cell_type": "markdown",
   "id": "ff068191",
   "metadata": {
    "id": "ff068191"
   },
   "source": [
    "### Question 1 Point : 40"
   ]
  },
  {
   "cell_type": "markdown",
   "id": "29b7b49c",
   "metadata": {
    "id": "29b7b49c"
   },
   "source": [
    "Temukan kota-kota dari worldcity yang memenuhi semua kondisi ini:\n",
    "- populasi kota tersebut melebih populasi dari kota terbanyak penduduknya di negara Filipina. (Maksudnya: misalnya kota X adalah kota di Filipina yang paling banyak penduduknya. Kita mau daftar kota-kota yang jumlah penduduknya lebih besar dari kota X tersebut), DAN\n",
    "- ada kota di Amerika Serikat (uscity) dengan nama kota yang sama dengan kota-kota pilihan\n",
    "\n",
    "Keluarkan hanya nama kota-kota yang memenuhi 2 syarat di atas saja, tidak usah kolom-kolom lain.\n",
    "\n",
    "##### NOTE: Hilangkan duplicate rows.\n",
    "\n",
    "Lakukan hanya 1x query saja, jangan melakukan lebih dari 1 query"
   ]
  },
  {
   "cell_type": "code",
   "execution_count": 19,
   "id": "2a4e7ab5",
   "metadata": {
    "id": "2a4e7ab5"
   },
   "outputs": [
    {
     "data": {
      "text/html": [
       "<div>\n",
       "<style scoped>\n",
       "    .dataframe tbody tr th:only-of-type {\n",
       "        vertical-align: middle;\n",
       "    }\n",
       "\n",
       "    .dataframe tbody tr th {\n",
       "        vertical-align: top;\n",
       "    }\n",
       "\n",
       "    .dataframe thead th {\n",
       "        text-align: right;\n",
       "    }\n",
       "</style>\n",
       "<table border=\"1\" class=\"dataframe\">\n",
       "  <thead>\n",
       "    <tr style=\"text-align: right;\">\n",
       "      <th></th>\n",
       "      <th>city</th>\n",
       "    </tr>\n",
       "  </thead>\n",
       "  <tbody>\n",
       "    <tr>\n",
       "      <th>0</th>\n",
       "      <td>Delhi</td>\n",
       "    </tr>\n",
       "  </tbody>\n",
       "</table>\n",
       "</div>"
      ],
      "text/plain": [
       "    city\n",
       "0  Delhi"
      ]
     },
     "execution_count": 19,
     "metadata": {},
     "output_type": "execute_result"
    }
   ],
   "source": [
    "query = \"\"\"\n",
    "SELECT DISTINCT wc.city\n",
    "FROM worldcity wc\n",
    "INNER JOIN (\n",
    "    SELECT MAX(population) AS max_population\n",
    "    FROM worldcity\n",
    "    WHERE country = 'Philippines'\n",
    ") AS philippine_max\n",
    "ON wc.population > philippine_max.max_population\n",
    "WHERE wc.city IN (\n",
    "    SELECT DISTINCT wc2.city\n",
    "    FROM worldcity wc2\n",
    "    INNER JOIN uscity us ON wc2.city = us.city\n",
    ")\n",
    "\"\"\"\n",
    "\n",
    "sql_run(query)"
   ]
  },
  {
   "cell_type": "markdown",
   "id": "e344a517",
   "metadata": {
    "id": "e344a517"
   },
   "source": [
    "### Question 2 Point : 60"
   ]
  },
  {
   "cell_type": "markdown",
   "id": "adebb3e7",
   "metadata": {
    "id": "adebb3e7"
   },
   "source": [
    "Temukan kota-kota di Amerika Serikat (uscity) yang memenuhi semua kondisi berikut:\n",
    "- memiliki nama 'city' yang tidak sama dengan 'state_name', dan juga\n",
    "- memiliki populasi di atas rata-rata populasi kota-kota di 'county_name' Miami-Dade, dan juga\n",
    "- terdiri dari dua atau lebih kata (contoh: Los Angeles, New York)\n",
    "\n",
    "Output yang diharapkan hanya kolom 'city' saja, tidak usah kolom yang lain\n",
    "\n",
    "Lakukan hanya 1x query saja, jangan melakukan lebih dari 1 query"
   ]
  },
  {
   "cell_type": "code",
   "execution_count": 22,
   "id": "5ac10d06",
   "metadata": {},
   "outputs": [
    {
     "data": {
      "text/html": [
       "<div>\n",
       "<style scoped>\n",
       "    .dataframe tbody tr th:only-of-type {\n",
       "        vertical-align: middle;\n",
       "    }\n",
       "\n",
       "    .dataframe tbody tr th {\n",
       "        vertical-align: top;\n",
       "    }\n",
       "\n",
       "    .dataframe thead th {\n",
       "        text-align: right;\n",
       "    }\n",
       "</style>\n",
       "<table border=\"1\" class=\"dataframe\">\n",
       "  <thead>\n",
       "    <tr style=\"text-align: right;\">\n",
       "      <th></th>\n",
       "      <th>city</th>\n",
       "      <th>state_id</th>\n",
       "      <th>state_name</th>\n",
       "      <th>county_fips</th>\n",
       "      <th>county_name</th>\n",
       "      <th>lat</th>\n",
       "      <th>lng</th>\n",
       "      <th>population</th>\n",
       "      <th>density</th>\n",
       "      <th>source</th>\n",
       "      <th>military</th>\n",
       "      <th>incorporated</th>\n",
       "      <th>timezone</th>\n",
       "      <th>ranking</th>\n",
       "      <th>zips</th>\n",
       "      <th>id</th>\n",
       "    </tr>\n",
       "  </thead>\n",
       "  <tbody>\n",
       "    <tr>\n",
       "      <th>21101</th>\n",
       "      <td>Gardner</td>\n",
       "      <td>FL</td>\n",
       "      <td>Florida</td>\n",
       "      <td>12049</td>\n",
       "      <td>Hardee</td>\n",
       "      <td>27.3537</td>\n",
       "      <td>-81.7895</td>\n",
       "      <td>340</td>\n",
       "      <td>17</td>\n",
       "      <td>polygon</td>\n",
       "      <td>False</td>\n",
       "      <td>False</td>\n",
       "      <td>America/New_York</td>\n",
       "      <td>3</td>\n",
       "      <td>33890</td>\n",
       "      <td>1840025167</td>\n",
       "    </tr>\n",
       "    <tr>\n",
       "      <th>28280</th>\n",
       "      <td>Ko Vaya</td>\n",
       "      <td>AZ</td>\n",
       "      <td>Arizona</td>\n",
       "      <td>4019</td>\n",
       "      <td>Pima</td>\n",
       "      <td>32.0815</td>\n",
       "      <td>-111.8959</td>\n",
       "      <td>8</td>\n",
       "      <td>2</td>\n",
       "      <td>polygon</td>\n",
       "      <td>False</td>\n",
       "      <td>False</td>\n",
       "      <td>America/Phoenix</td>\n",
       "      <td>3</td>\n",
       "      <td>85634</td>\n",
       "      <td>1840023072</td>\n",
       "    </tr>\n",
       "    <tr>\n",
       "      <th>28045</th>\n",
       "      <td>Roy Lake</td>\n",
       "      <td>MN</td>\n",
       "      <td>Minnesota</td>\n",
       "      <td>27029</td>\n",
       "      <td>Clearwater</td>\n",
       "      <td>47.3176</td>\n",
       "      <td>-95.5428</td>\n",
       "      <td>23</td>\n",
       "      <td>19</td>\n",
       "      <td>polygon</td>\n",
       "      <td>False</td>\n",
       "      <td>False</td>\n",
       "      <td>America/Chicago</td>\n",
       "      <td>3</td>\n",
       "      <td>56557</td>\n",
       "      <td>1840023822</td>\n",
       "    </tr>\n",
       "  </tbody>\n",
       "</table>\n",
       "</div>"
      ],
      "text/plain": [
       "           city state_id state_name  county_fips county_name      lat  \\\n",
       "21101   Gardner       FL    Florida        12049      Hardee  27.3537   \n",
       "28280   Ko Vaya       AZ    Arizona         4019        Pima  32.0815   \n",
       "28045  Roy Lake       MN  Minnesota        27029  Clearwater  47.3176   \n",
       "\n",
       "            lng  population  density   source  military  incorporated  \\\n",
       "21101  -81.7895         340       17  polygon     False         False   \n",
       "28280 -111.8959           8        2  polygon     False         False   \n",
       "28045  -95.5428          23       19  polygon     False         False   \n",
       "\n",
       "               timezone  ranking   zips          id  \n",
       "21101  America/New_York        3  33890  1840025167  \n",
       "28280   America/Phoenix        3  85634  1840023072  \n",
       "28045   America/Chicago        3  56557  1840023822  "
      ]
     },
     "execution_count": 22,
     "metadata": {},
     "output_type": "execute_result"
    }
   ],
   "source": [
    "uscity.sample(3)"
   ]
  },
  {
   "cell_type": "code",
   "execution_count": 5,
   "id": "4c760ecf",
   "metadata": {
    "id": "4c760ecf"
   },
   "outputs": [
    {
     "data": {
      "text/html": [
       "<div>\n",
       "<style scoped>\n",
       "    .dataframe tbody tr th:only-of-type {\n",
       "        vertical-align: middle;\n",
       "    }\n",
       "\n",
       "    .dataframe tbody tr th {\n",
       "        vertical-align: top;\n",
       "    }\n",
       "\n",
       "    .dataframe thead th {\n",
       "        text-align: right;\n",
       "    }\n",
       "</style>\n",
       "<table border=\"1\" class=\"dataframe\">\n",
       "  <thead>\n",
       "    <tr style=\"text-align: right;\">\n",
       "      <th></th>\n",
       "      <th>city</th>\n",
       "    </tr>\n",
       "  </thead>\n",
       "  <tbody>\n",
       "    <tr>\n",
       "      <th>0</th>\n",
       "      <td>Los Angeles</td>\n",
       "    </tr>\n",
       "    <tr>\n",
       "      <th>1</th>\n",
       "      <td>San Francisco</td>\n",
       "    </tr>\n",
       "    <tr>\n",
       "      <th>2</th>\n",
       "      <td>San Diego</td>\n",
       "    </tr>\n",
       "    <tr>\n",
       "      <th>3</th>\n",
       "      <td>Las Vegas</td>\n",
       "    </tr>\n",
       "    <tr>\n",
       "      <th>4</th>\n",
       "      <td>San Antonio</td>\n",
       "    </tr>\n",
       "    <tr>\n",
       "      <th>...</th>\n",
       "      <td>...</td>\n",
       "    </tr>\n",
       "    <tr>\n",
       "      <th>84</th>\n",
       "      <td>South Lyon</td>\n",
       "    </tr>\n",
       "    <tr>\n",
       "      <th>85</th>\n",
       "      <td>Lehigh Acres</td>\n",
       "    </tr>\n",
       "    <tr>\n",
       "      <th>86</th>\n",
       "      <td>East Los Angeles</td>\n",
       "    </tr>\n",
       "    <tr>\n",
       "      <th>87</th>\n",
       "      <td>St. George</td>\n",
       "    </tr>\n",
       "    <tr>\n",
       "      <th>88</th>\n",
       "      <td>Yuba City</td>\n",
       "    </tr>\n",
       "  </tbody>\n",
       "</table>\n",
       "<p>89 rows × 1 columns</p>\n",
       "</div>"
      ],
      "text/plain": [
       "                city\n",
       "0        Los Angeles\n",
       "1      San Francisco\n",
       "2          San Diego\n",
       "3          Las Vegas\n",
       "4        San Antonio\n",
       "..               ...\n",
       "84        South Lyon\n",
       "85      Lehigh Acres\n",
       "86  East Los Angeles\n",
       "87        St. George\n",
       "88         Yuba City\n",
       "\n",
       "[89 rows x 1 columns]"
      ]
     },
     "execution_count": 5,
     "metadata": {},
     "output_type": "execute_result"
    }
   ],
   "source": [
    "query = \"\"\"\n",
    "SELECT DISTINCT city\n",
    "FROM uscity\n",
    "WHERE city <> state_name\n",
    "    AND population > (\n",
    "        SELECT AVG(population)\n",
    "        FROM uscity\n",
    "        WHERE county_name = 'Miami-Dade'\n",
    "    )\n",
    "    AND city LIKE '% %'\n",
    "\"\"\"\n",
    "\n",
    "sql_run(query)"
   ]
  },
  {
   "cell_type": "code",
   "execution_count": null,
   "id": "37153b8a",
   "metadata": {
    "id": "37153b8a"
   },
   "outputs": [],
   "source": []
  }
 ],
 "metadata": {
  "colab": {
   "provenance": []
  },
  "kernelspec": {
   "display_name": "Python 3 (ipykernel)",
   "language": "python",
   "name": "python3"
  },
  "language_info": {
   "codemirror_mode": {
    "name": "ipython",
    "version": 3
   },
   "file_extension": ".py",
   "mimetype": "text/x-python",
   "name": "python",
   "nbconvert_exporter": "python",
   "pygments_lexer": "ipython3",
   "version": "3.9.13"
  }
 },
 "nbformat": 4,
 "nbformat_minor": 5
}
