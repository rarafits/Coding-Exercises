{
  "nbformat": 4,
  "nbformat_minor": 0,
  "metadata": {
    "kernelspec": {
      "display_name": "Python 3",
      "language": "python",
      "name": "python3"
    },
    "language_info": {
      "codemirror_mode": {
        "name": "ipython",
        "version": 3
      },
      "file_extension": ".py",
      "mimetype": "text/x-python",
      "name": "python",
      "nbconvert_exporter": "python",
      "pygments_lexer": "ipython3",
      "version": "3.7.0"
    },
    "colab": {
      "provenance": []
    }
  },
  "cells": [
    {
      "cell_type": "markdown",
      "metadata": {
        "id": "hhIQeEv4JdpK"
      },
      "source": [
        "## Selamat datang di Tantangan Coding Minggu ke-3!\n",
        "### Tema minggu ini adalah: String!\n",
        "\n",
        "Mulai minggu ini, metode inisialisasi fungsi tidak akan diberikan. Anda harus mencari tahu sendiri. Keep up the good work!\n",
        "\n",
        "Anda hanya perlu **menyelesaikan 2 pertanyaan**!"
      ]
    },
    {
      "cell_type": "markdown",
      "metadata": {
        "id": "ZwHc-3vSJdpj"
      },
      "source": [
        "###**Problem 1: Temukan jumlah substring.**"
      ]
    },
    {
      "cell_type": "markdown",
      "metadata": {
        "id": "_rD65MuvJdpm"
      },
      "source": [
        "Buatlah fungsi yang bernama ```substring_count``` yang dapat melakukan: \n",
        "\n",
        "Diberikan string dan substring. Hitung berapa kali substring muncul di string. Input pertama selalu berupa string (yang lebih panjang), dan input kedua selalu berupa substring (yang lebih pendek).\n",
        "\n",
        "##### Example 1:\n",
        "\n",
        "Input:\n",
        "\n",
        "string = 'ABCDCDC'\n",
        "\n",
        "substring = 'CD'\n",
        "\n",
        "Berapa kali 'CD' muncul di 'ABCDCDC'?\n",
        "2 kali! Jadi saat kita menjalankan ```substring_count('ABCDCDC', 'CD')``` hasilnya akan menjadi '2'. \n",
        "\n",
        "Output: 2\n",
        "\n",
        "##### Example 2:\n",
        "\n",
        "String:\n",
        "\n",
        "string = 'ABCDCDC'\n",
        "\n",
        "substring = 'CDC'\n",
        "\n",
        "Berapa kali 'CDC' muncul di 'ABCDCDC'?\n",
        "2 kali! Ya, itu bisa tumpang tindih. AB**CDC**DC, dan ABCD**CDC**. Jadi, saat kita menjalankan ```substring_count('ABCDCDC', 'CDC')``` hasilnya akan '2'. \n",
        "\n",
        "Output: 2\n",
        "\n",
        "##### Example 3:\n",
        "\n",
        "string = 'DEDFDEDEDEG'\n",
        "\n",
        "substring = 'DED'\n",
        "\n",
        "3 kali! Pertama: **DED**FDEDEDEG. Kedua: DEDF**DED**EDEG. Ketiga: DEDFDE**DED**EG.\n",
        "\n",
        "Output: 3"
      ]
    },
    {
      "cell_type": "code",
      "metadata": {
        "id": "-dQgvKqmJdpp"
      },
      "source": [
        "### Write your solution here ###\n",
        "def substring_count(string, substring):\n",
        "    count = 0\n",
        "    for i in range(len(string)):\n",
        "        if string[i:i+len(substring)] == substring:\n",
        "            count += 1\n",
        "    return count"
      ],
      "execution_count": 2,
      "outputs": []
    },
    {
      "cell_type": "code",
      "metadata": {
        "id": "Um0FiJYdJdps",
        "outputId": "5c410746-8e9c-46fb-e8a9-51696bc15753",
        "colab": {
          "base_uri": "https://localhost:8080/"
        }
      },
      "source": [
        "substring_count('ABCDCDC', 'CDC')\n",
        "#Expected output= 2"
      ],
      "execution_count": 3,
      "outputs": [
        {
          "output_type": "execute_result",
          "data": {
            "text/plain": [
              "2"
            ]
          },
          "metadata": {},
          "execution_count": 3
        }
      ]
    },
    {
      "cell_type": "code",
      "metadata": {
        "id": "T4YeC9kmJdpv",
        "colab": {
          "base_uri": "https://localhost:8080/"
        },
        "outputId": "832d068e-d204-4e3c-a1f4-c27364bf7eb5"
      },
      "source": [
        "### example 1 ###\n",
        "substring_count('ABCDCDC', 'CD')"
      ],
      "execution_count": 4,
      "outputs": [
        {
          "output_type": "execute_result",
          "data": {
            "text/plain": [
              "2"
            ]
          },
          "metadata": {},
          "execution_count": 4
        }
      ]
    },
    {
      "cell_type": "code",
      "source": [
        "### example 3 ###\n",
        "substring_count('DEDFDEDEDEG', 'DED')"
      ],
      "metadata": {
        "colab": {
          "base_uri": "https://localhost:8080/"
        },
        "id": "4Ph7K1S5jPBp",
        "outputId": "790e4293-70b4-490d-b971-9768bdf2f5fd"
      },
      "execution_count": 9,
      "outputs": [
        {
          "output_type": "execute_result",
          "data": {
            "text/plain": [
              "3"
            ]
          },
          "metadata": {},
          "execution_count": 9
        }
      ]
    },
    {
      "cell_type": "markdown",
      "metadata": {
        "id": "kPc42YPuJdpw"
      },
      "source": [
        "###**Problem 2: Berapa banyak huruf berbeda yang ada di string?**"
      ]
    },
    {
      "cell_type": "markdown",
      "metadata": {
        "id": "YtkU_gLYJdpx"
      },
      "source": [
        "Buat fungsi yang bernama ```diff_letters``` yang menghitung jumlah huruf yang berbeda yang terdapat pada string\n",
        "\n",
        "Input hanya berupa string tunggal.\n",
        "\n",
        "##### Example 1:\n",
        "\n",
        "Input: 'AAAAAAAAAB'\n",
        "\n",
        "Karena hanya ada 2 huruf berbeda dalam string input, keluarannya adalah 2.\n",
        "\n",
        "Saat kita menjalankan ```diff_letters```, outputnya adalah '2'.\n",
        "\n",
        "Output: 2\n",
        "\n",
        "##### Example 2:\n",
        "\n",
        "Input: 'ABCDAAAABBCCCE'\n",
        "\n",
        "Karena ada 5 huruf berbeda dalam string itu (A, B, C, D, E), hasilnya adalah 5.\n",
        "\n",
        "Output: 5"
      ]
    },
    {
      "cell_type": "code",
      "metadata": {
        "id": "uQkNjT2kJdpz"
      },
      "source": [
        "### Write your code here ###\n",
        "def diff_letters(string):\n",
        "    distinct_letters = set(string)\n",
        "    return len(distinct_letters)"
      ],
      "execution_count": 5,
      "outputs": []
    },
    {
      "cell_type": "code",
      "metadata": {
        "id": "_BAImneoJdp0",
        "outputId": "eabe8477-71cd-410f-f3d4-16172ec59475",
        "colab": {
          "base_uri": "https://localhost:8080/"
        }
      },
      "source": [
        "### example 1 ###\n",
        "diff_letters('AAAAAAAAAB')"
      ],
      "execution_count": 6,
      "outputs": [
        {
          "output_type": "execute_result",
          "data": {
            "text/plain": [
              "2"
            ]
          },
          "metadata": {},
          "execution_count": 6
        }
      ]
    },
    {
      "cell_type": "code",
      "metadata": {
        "id": "GZG7-n3xJdp0",
        "outputId": "0407c3bf-4ec6-49bf-d93a-5639c8a74ff4",
        "colab": {
          "base_uri": "https://localhost:8080/"
        }
      },
      "source": [
        "### example 2 ###\n",
        "diff_letters('ABCDAAAABBCCCE')"
      ],
      "execution_count": 7,
      "outputs": [
        {
          "output_type": "execute_result",
          "data": {
            "text/plain": [
              "5"
            ]
          },
          "metadata": {},
          "execution_count": 7
        }
      ]
    },
    {
      "cell_type": "markdown",
      "metadata": {
        "id": "fiXI1RgZJdp3"
      },
      "source": [
        "Problem 3: Temukan Jarak Antara Dua Koordinat - Medium"
      ]
    },
    {
      "cell_type": "markdown",
      "source": [
        "### NOTE ###\n",
        "*Soal No. 3 dikerjakan sebagai latihan saja namun mohon dinilai jika jawaban yang 2 di atas ternyata ada salah atau kekurangan hehehehe. Terimakasih mentor.*"
      ],
      "metadata": {
        "id": "pfGavv1Akcq-"
      }
    },
    {
      "cell_type": "markdown",
      "metadata": {
        "id": "TZx_zMmbJdp3"
      },
      "source": [
        "Buatlah fungsi yang bernama ```distance``` yang dapat melakukan:\n",
        "\n",
        "Diberikan dua koordinat dalam list. Tugas Anda adalah menghitung jarak antara kedua koordinat tersebut. Input dari fungsi Anda akan berupa string. Koordinat yang muncul pertama adalah koordinat pertama, dan koordinat yang muncul setelah koma adalah koordinat kedua.\n",
        "\n",
        "##### Example 1:\n",
        "\n",
        "Input: \n",
        "\n",
        "'(5,5), (1,2)'\n",
        "\n",
        "Artinya, koordinat titik pertama adalah (5,5), koordinat titik kedua adalah (1,2). Untuk menghitung jarak antara dua titik ini, kami menggunakan rumus jarak euclidean biasa yang dapat dibaca di link berikut: https://wikimedia.org/api/rest_v1/media/math/render/svg/2e0c9ce1b3455cb9e92c6bad6684dbda02f69c82. \n",
        "\n",
        "Jaraknya adalah: \n",
        "\n",
        "Akar kuadrat dari ((5-1)^2 + (5-2)^2) = Akar kuadrat dari (16 + 9) = Akar kuadrat dari (25) = 5.\n",
        "\n",
        "Output: 'Jaraknya adalah 5'\n",
        "\n",
        "Jadi, saat kita menjalankan ```distance('(5,5),(1,2)')``` Outputnya adalah 'Jaraknya adalah 5'.\n",
        "\n",
        "##### Example 2:\n",
        "\n",
        "Input:\n",
        "\n",
        "'(0,-1), (-3,2)'\n",
        "\n",
        "TKoordinat pertama adalah (0,-1), koordinat kedua adalah (-3,2). Jarak antara mereka adalah:\n",
        "\n",
        "Akar kuadrat dari ((0- -3)^2 + (-1-2)^2) = Akar kuadrat dari (9 + 9) = Akar kuadrat dari (18) = 4,242640687\n",
        "\n",
        "Output: 'Jaraknya adalah 4.242640687'\n",
        "\n",
        "Jadi, saat kita menjalankan ```distance('(0,-1),(-3,2)')``` Outputnya adalah 'Jaraknya adalah 4.242640487'\n",
        "\n",
        "##### FAQ:\n",
        "\n",
        "- Question: \"Desimalnya dibuletin ga?\"\n",
        "- Answer: \"Ga usah peduliin format output desimalnya. Mau keluar berapa angka di belakang koma gpp kok. Yang penting value nya bener.\" \n",
        "- Question: \"Lha bedanya apa sama soal week 2?\"\n",
        "- Answer: \"Bedanya kali ini inputnya cuma 1, dan dia berupa teks (string), bukan list kyk minggu lalu. Semangat!\""
      ]
    },
    {
      "cell_type": "code",
      "source": [
        "### Example\n",
        "a = '(5,5), (1,2)'\n",
        "\n",
        "distance(a) \n",
        "\n",
        "# when you run this cell, it is expected that the output will be:\n",
        "# 'The distance is 5'"
      ],
      "metadata": {
        "id": "dxgKbAUPmOOn"
      },
      "execution_count": null,
      "outputs": []
    },
    {
      "cell_type": "code",
      "metadata": {
        "id": "_z7gXtaTJdp9"
      },
      "source": [
        "import math\n",
        "\n",
        "def distance(string):\n",
        "    # Parsing string untuk mendapatkan koordinat pertama dan kedua\n",
        "    string = string.replace('(', '').replace(')', '').replace(' ', '').split(',')\n",
        "    x1, y1, x2, y2 = map(int, string)\n",
        "    \n",
        "    # Menghitung jarak antara dua koordinat menggunakan rumus jarak Euclidean\n",
        "    dist = math.sqrt((x2 - x1) ** 2 + (y2 - y1) ** 2)\n",
        "    \n",
        "    # Mengembalikan hasil dengan format yang sesuai\n",
        "    return 'The distance is {}'.format(int(dist))"
      ],
      "execution_count": 1,
      "outputs": []
    },
    {
      "cell_type": "code",
      "metadata": {
        "id": "MT6iH_F4Jdp_",
        "outputId": "26ae9d46-5d44-4af0-ad82-9acabf6504c5",
        "colab": {
          "base_uri": "https://localhost:8080/",
          "height": 35
        }
      },
      "source": [
        "distance('(0,-1),(-3,2)')"
      ],
      "execution_count": 2,
      "outputs": [
        {
          "output_type": "execute_result",
          "data": {
            "text/plain": [
              "'The distance is 4'"
            ],
            "application/vnd.google.colaboratory.intrinsic+json": {
              "type": "string"
            }
          },
          "metadata": {},
          "execution_count": 2
        }
      ]
    },
    {
      "cell_type": "code",
      "metadata": {
        "id": "ObTz5xL7JdqB",
        "colab": {
          "base_uri": "https://localhost:8080/",
          "height": 35
        },
        "outputId": "a807a228-cf82-4221-e617-a59c3abb81e7"
      },
      "source": [
        "string = '(5,-5), (1,2)'\n",
        "distance(string)"
      ],
      "execution_count": 4,
      "outputs": [
        {
          "output_type": "execute_result",
          "data": {
            "text/plain": [
              "'The distance is 8'"
            ],
            "application/vnd.google.colaboratory.intrinsic+json": {
              "type": "string"
            }
          },
          "metadata": {},
          "execution_count": 4
        }
      ]
    },
    {
      "cell_type": "code",
      "metadata": {
        "id": "BTSyh-_9JdqF",
        "outputId": "5036c12b-f856-4acb-d35c-86a50bfb0841",
        "colab": {
          "base_uri": "https://localhost:8080/",
          "height": 35
        }
      },
      "source": [
        "### example 1 ###\n",
        "a = '(5,5), (1,2)'\n",
        "distance(a)"
      ],
      "execution_count": 8,
      "outputs": [
        {
          "output_type": "execute_result",
          "data": {
            "text/plain": [
              "'The distance is 5'"
            ],
            "application/vnd.google.colaboratory.intrinsic+json": {
              "type": "string"
            }
          },
          "metadata": {},
          "execution_count": 8
        }
      ]
    },
    {
      "cell_type": "markdown",
      "source": [
        "Pusing banget ngerjain nomor 3 :(\n",
        "\n",
        "but,\n",
        "\n",
        "**THANK YOU, Mentor :)**"
      ],
      "metadata": {
        "id": "KF07No8946xF"
      }
    }
  ]
}